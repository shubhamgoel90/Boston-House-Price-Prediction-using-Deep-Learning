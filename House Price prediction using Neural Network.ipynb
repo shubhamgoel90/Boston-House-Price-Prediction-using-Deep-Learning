{
 "cells": [
  {
   "cell_type": "code",
   "execution_count": 5,
   "metadata": {},
   "outputs": [],
   "source": [
    "from keras.datasets import boston_housing"
   ]
  },
  {
   "cell_type": "code",
   "execution_count": 6,
   "metadata": {},
   "outputs": [],
   "source": [
    "Train, Test = boston_housing.load_data()"
   ]
  },
  {
   "cell_type": "code",
   "execution_count": 7,
   "metadata": {},
   "outputs": [],
   "source": [
    "XT, YT = Train\n",
    "Xt, Yt = Test"
   ]
  },
  {
   "cell_type": "code",
   "execution_count": 8,
   "metadata": {},
   "outputs": [
    {
     "name": "stdout",
     "output_type": "stream",
     "text": [
      "(404, 13)\n",
      "(404,)\n",
      "(102, 13)\n",
      "(102,)\n"
     ]
    }
   ],
   "source": [
    "print(XT.shape)\n",
    "print(YT.shape)\n",
    "print(Xt.shape)\n",
    "print(Yt.shape)"
   ]
  },
  {
   "cell_type": "code",
   "execution_count": 9,
   "metadata": {},
   "outputs": [],
   "source": [
    "mean = XT.mean(axis = 0)\n",
    "std = XT.std(axis = 0)\n",
    "\n",
    "# Data Noramlization\n",
    "XT = (XT - mean)/std\n",
    "Xt = (Xt - mean)/std"
   ]
  },
  {
   "cell_type": "code",
   "execution_count": 11,
   "metadata": {},
   "outputs": [],
   "source": [
    "# Build Our Neural Network Problem\n",
    "from keras.models import Sequential\n",
    "from keras.layers import Dense\n",
    "import numpy as np\n",
    "from keras import backend as K\n",
    "\n",
    "def r2_score(y_true, y_pred):\n",
    "  \n",
    "  #y_true = np.array(y_true)\n",
    "  #y_pred = np.array(y_pred)\n",
    "  \n",
    "  num = K.sum(K.square(y_true-y_pred))\n",
    "  denom = K.sum(K.square(y_true - K.mean(y_true)))\n",
    "  return(1-num/denom)\n",
    "\n",
    "\n",
    "def getModel():\n",
    "  model = Sequential()\n",
    "  model.add(Dense(64, activation = \"relu\", input_shape = (13, )))\n",
    "  model.add(Dense(32, activation = \"relu\"))\n",
    "  model.add(Dense(1))\n",
    "  \n",
    "  model.compile(optimizer = \"adam\", loss = \"mse\", metrics = [r2_score])\n",
    "  \n",
    "  return model"
   ]
  },
  {
   "cell_type": "code",
   "execution_count": null,
   "metadata": {},
   "outputs": [],
   "source": []
  },
  {
   "cell_type": "code",
   "execution_count": 12,
   "metadata": {},
   "outputs": [
    {
     "name": "stderr",
     "output_type": "stream",
     "text": [
      "WARNING: Logging before flag parsing goes to stderr.\n",
      "W0710 21:18:17.927012  9108 deprecation_wrapper.py:119] From c:\\users\\ramesh\\appdata\\local\\programs\\python\\python37\\lib\\site-packages\\keras\\backend\\tensorflow_backend.py:74: The name tf.get_default_graph is deprecated. Please use tf.compat.v1.get_default_graph instead.\n",
      "\n",
      "W0710 21:18:19.464736  9108 deprecation_wrapper.py:119] From c:\\users\\ramesh\\appdata\\local\\programs\\python\\python37\\lib\\site-packages\\keras\\backend\\tensorflow_backend.py:517: The name tf.placeholder is deprecated. Please use tf.compat.v1.placeholder instead.\n",
      "\n",
      "W0710 21:18:19.991643  9108 deprecation_wrapper.py:119] From c:\\users\\ramesh\\appdata\\local\\programs\\python\\python37\\lib\\site-packages\\keras\\backend\\tensorflow_backend.py:4138: The name tf.random_uniform is deprecated. Please use tf.random.uniform instead.\n",
      "\n",
      "W0710 21:18:20.419402  9108 deprecation_wrapper.py:119] From c:\\users\\ramesh\\appdata\\local\\programs\\python\\python37\\lib\\site-packages\\keras\\optimizers.py:790: The name tf.train.Optimizer is deprecated. Please use tf.compat.v1.train.Optimizer instead.\n",
      "\n"
     ]
    },
    {
     "name": "stdout",
     "output_type": "stream",
     "text": [
      "_________________________________________________________________\n",
      "Layer (type)                 Output Shape              Param #   \n",
      "=================================================================\n",
      "dense_1 (Dense)              (None, 64)                896       \n",
      "_________________________________________________________________\n",
      "dense_2 (Dense)              (None, 32)                2080      \n",
      "_________________________________________________________________\n",
      "dense_3 (Dense)              (None, 1)                 33        \n",
      "=================================================================\n",
      "Total params: 3,009\n",
      "Trainable params: 3,009\n",
      "Non-trainable params: 0\n",
      "_________________________________________________________________\n"
     ]
    },
    {
     "name": "stderr",
     "output_type": "stream",
     "text": [
      "W0710 21:18:21.934924  9108 deprecation_wrapper.py:119] From c:\\users\\ramesh\\appdata\\local\\programs\\python\\python37\\lib\\site-packages\\keras\\backend\\tensorflow_backend.py:986: The name tf.assign_add is deprecated. Please use tf.compat.v1.assign_add instead.\n",
      "\n",
      "W0710 21:18:22.224754  9108 deprecation_wrapper.py:119] From c:\\users\\ramesh\\appdata\\local\\programs\\python\\python37\\lib\\site-packages\\keras\\backend\\tensorflow_backend.py:973: The name tf.assign is deprecated. Please use tf.compat.v1.assign instead.\n",
      "\n"
     ]
    },
    {
     "name": "stdout",
     "output_type": "stream",
     "text": [
      "Train on 404 samples, validate on 102 samples\n",
      "Epoch 1/30\n",
      "404/404 [==============================] - 5s 12ms/step - loss: 564.9519 - r2_score: -6.2921 - val_loss: 573.8828 - val_r2_score: -6.4806\n",
      "Epoch 2/30\n",
      "404/404 [==============================] - 0s 134us/step - loss: 526.3262 - r2_score: -5.7662 - val_loss: 530.3576 - val_r2_score: -5.9038\n",
      "Epoch 3/30\n",
      "404/404 [==============================] - 0s 171us/step - loss: 478.8175 - r2_score: -5.3946 - val_loss: 474.9684 - val_r2_score: -5.1730\n",
      "Epoch 4/30\n",
      "404/404 [==============================] - 0s 163us/step - loss: 417.8034 - r2_score: -4.3706 - val_loss: 402.0425 - val_r2_score: -4.2143\n",
      "Epoch 5/30\n",
      "404/404 [==============================] - 0s 186us/step - loss: 339.6009 - r2_score: -3.5646 - val_loss: 310.5359 - val_r2_score: -3.0157\n",
      "Epoch 6/30\n",
      "404/404 [==============================] - 0s 141us/step - loss: 247.7068 - r2_score: -2.2110 - val_loss: 212.5575 - val_r2_score: -1.7390\n",
      "Epoch 7/30\n",
      "404/404 [==============================] - 0s 267us/step - loss: 159.8522 - r2_score: -0.9360 - val_loss: 132.5710 - val_r2_score: -0.7086\n",
      "Epoch 8/30\n",
      "404/404 [==============================] - 0s 166us/step - loss: 100.4252 - r2_score: -0.3272 - val_loss: 88.5513 - val_r2_score: -0.1544\n",
      "Epoch 9/30\n",
      "404/404 [==============================] - 0s 193us/step - loss: 69.7776 - r2_score: 0.1247 - val_loss: 69.4121 - val_r2_score: 0.0877\n",
      "Epoch 10/30\n",
      "404/404 [==============================] - 0s 146us/step - loss: 55.4956 - r2_score: 0.3268 - val_loss: 56.1834 - val_r2_score: 0.2621\n",
      "Epoch 11/30\n",
      "404/404 [==============================] - 0s 153us/step - loss: 44.1601 - r2_score: 0.4188 - val_loss: 46.7830 - val_r2_score: 0.3892\n",
      "Epoch 12/30\n",
      "404/404 [==============================] - 0s 104us/step - loss: 36.1978 - r2_score: 0.5251 - val_loss: 40.4698 - val_r2_score: 0.4741\n",
      "Epoch 13/30\n",
      "404/404 [==============================] - 0s 87us/step - loss: 30.9395 - r2_score: 0.6248 - val_loss: 36.1387 - val_r2_score: 0.5322\n",
      "Epoch 14/30\n",
      "404/404 [==============================] - 0s 96us/step - loss: 27.5455 - r2_score: 0.6508 - val_loss: 33.2775 - val_r2_score: 0.5714\n",
      "Epoch 15/30\n",
      "404/404 [==============================] - 0s 96us/step - loss: 25.1808 - r2_score: 0.6639 - val_loss: 31.3483 - val_r2_score: 0.5983\n",
      "Epoch 16/30\n",
      "404/404 [==============================] - 0s 124us/step - loss: 23.3741 - r2_score: 0.7212 - val_loss: 29.8897 - val_r2_score: 0.6181\n",
      "Epoch 17/30\n",
      "404/404 [==============================] - 0s 183us/step - loss: 22.0799 - r2_score: 0.7228 - val_loss: 28.7538 - val_r2_score: 0.6344\n",
      "Epoch 18/30\n",
      "404/404 [==============================] - 0s 267us/step - loss: 20.8664 - r2_score: 0.6904 - val_loss: 27.8299 - val_r2_score: 0.6472\n",
      "Epoch 19/30\n",
      "404/404 [==============================] - 0s 148us/step - loss: 19.9137 - r2_score: 0.7383 - val_loss: 26.9096 - val_r2_score: 0.6600\n",
      "Epoch 20/30\n",
      "404/404 [==============================] - 0s 121us/step - loss: 19.1755 - r2_score: 0.7574 - val_loss: 26.4838 - val_r2_score: 0.6664\n",
      "Epoch 21/30\n",
      "404/404 [==============================] - 0s 99us/step - loss: 18.3397 - r2_score: 0.7780 - val_loss: 25.8654 - val_r2_score: 0.6751\n",
      "Epoch 22/30\n",
      "404/404 [==============================] - 0s 96us/step - loss: 17.6914 - r2_score: 0.7807 - val_loss: 25.3147 - val_r2_score: 0.6826\n",
      "Epoch 23/30\n",
      "404/404 [==============================] - 0s 106us/step - loss: 17.0095 - r2_score: 0.7627 - val_loss: 25.0789 - val_r2_score: 0.6863\n",
      "Epoch 24/30\n",
      "404/404 [==============================] - 0s 111us/step - loss: 16.3935 - r2_score: 0.7948 - val_loss: 24.4066 - val_r2_score: 0.6953\n",
      "Epoch 25/30\n",
      "404/404 [==============================] - 0s 92us/step - loss: 15.8411 - r2_score: 0.8054 - val_loss: 24.2067 - val_r2_score: 0.6981\n",
      "Epoch 26/30\n",
      "404/404 [==============================] - 0s 92us/step - loss: 15.3601 - r2_score: 0.8067 - val_loss: 23.7367 - val_r2_score: 0.7045\n",
      "Epoch 27/30\n",
      "404/404 [==============================] - 0s 114us/step - loss: 14.8744 - r2_score: 0.8051 - val_loss: 23.5789 - val_r2_score: 0.7067\n",
      "Epoch 28/30\n",
      "404/404 [==============================] - 0s 114us/step - loss: 14.4777 - r2_score: 0.8181 - val_loss: 24.1443 - val_r2_score: 0.6996\n",
      "Epoch 29/30\n",
      "404/404 [==============================] - 0s 151us/step - loss: 14.0559 - r2_score: 0.8224 - val_loss: 23.5671 - val_r2_score: 0.7073\n",
      "Epoch 30/30\n",
      "404/404 [==============================] - 0s 131us/step - loss: 13.6777 - r2_score: 0.8241 - val_loss: 23.0042 - val_r2_score: 0.7145\n"
     ]
    }
   ],
   "source": [
    "model = getModel()\n",
    "model.summary()\n",
    "hist = model.fit(XT, YT, verbose = 1, validation_data = (Xt, Yt) , epochs = 30)\n"
   ]
  },
  {
   "cell_type": "code",
   "execution_count": 13,
   "metadata": {},
   "outputs": [
    {
     "data": {
      "image/png": "[encoded data removed]",
      "text/plain": [
       "<Figure size 432x288 with 1 Axes>"
      ]
     },
     "metadata": {
      "needs_background": "light"
     },
     "output_type": "display_data"
    }
   ],
   "source": [
    "import matplotlib.pyplot as plt\n",
    "plt.plot(hist.history[\"r2_score\"])\n",
    "plt.show()\n"
   ]
  },
  {
   "cell_type": "code",
   "execution_count": 14,
   "metadata": {},
   "outputs": [
    {
     "data": {
      "text/plain": [
       "[<matplotlib.lines.Line2D at 0x1beef7d10c8>]"
      ]
     },
     "execution_count": 14,
     "metadata": {},
     "output_type": "execute_result"
    },
    {
     "data": {
      "image/png": "[encoded data removed]",
      "text/plain": [
       "<Figure size 432x288 with 1 Axes>"
      ]
     },
     "metadata": {
      "needs_background": "light"
     },
     "output_type": "display_data"
    }
   ],
   "source": [
    "plt.plot(hist.history[\"r2_score\"])\n",
    "plt.plot(hist.history[\"val_r2_score\"])"
   ]
  },
  {
   "cell_type": "code",
   "execution_count": 16,
   "metadata": {},
   "outputs": [
    {
     "data": {
      "text/plain": [
       "'\\nplt.plot(r2_score_train , )\\nplt.plot(r2_score_val, label = \"Val Score\")\\n\\n'"
      ]
     },
     "execution_count": 16,
     "metadata": {},
     "output_type": "execute_result"
    }
   ],
   "source": [
    "\"\"\"\n",
    "plt.plot(r2_score_train , )\n",
    "plt.plot(r2_score_val, label = \"Val Score\")\n",
    "\n",
    "\"\"\""
   ]
  },
  {
   "cell_type": "code",
   "execution_count": null,
   "metadata": {},
   "outputs": [],
   "source": []
  }
 ],
 "metadata": {
  "kernelspec": {
   "display_name": "Python 3",
   "language": "python",
   "name": "python3"
  },
  "language_info": {
   "codemirror_mode": {
    "name": "ipython",
    "version": 3
   },
   "file_extension": ".py",
   "mimetype": "text/x-python",
   "name": "python",
   "nbconvert_exporter": "python",
   "pygments_lexer": "ipython3",
   "version": "3.7.4"
  }
 },
 "nbformat": 4,
 "nbformat_minor": 2
}
